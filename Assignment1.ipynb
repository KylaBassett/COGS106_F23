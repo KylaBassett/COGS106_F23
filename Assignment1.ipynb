{
 "cells": [
  {
   "cell_type": "markdown",
   "metadata": {},
   "source": [
    "## Assignment 1 Getting your Feet Wet with Coding for Data Analysis and Modeling\n",
    "\n",
    "\n",
    "### The purpose of this assignment is to get started coding!  Its alright if you have struggles, if you ask your classmates or me.  \n",
    "### I am available on the Discord Server in the Professors corner and of course by email and in class. \n",
    "\n",
    "###  Deadline: Wednesday 10/11 at midnight. "
   ]
  },
  {
   "cell_type": "markdown",
   "metadata": {},
   "source": [
    "### Problem #1 \n",
    "#### Make an array x containing 200 random numbers (samples) drawn from a normal distribution with a mean of 0.25 and a standard deviation of and plot a histogram. Don't forget to set the random number seed.  \n",
    "\n"
   ]
  },
  {
   "cell_type": "code",
   "execution_count": 5,
   "metadata": {},
   "outputs": [],
   "source": [
    "import numpy as np\n",
    "from numpy import random \n",
    "myseed = 1234\n",
    "rng = np.random.default_rng(seed = myseed)\n",
    "x = rng.normal(.25, 1, 200)\n",
    "\n"
   ]
  },
  {
   "cell_type": "markdown",
   "metadata": {},
   "source": [
    "### Problem #2  \n",
    "#### Find the mean, median, 25%, 75% and standard deviation of the array you created in Problem 1"
   ]
  },
  {
   "cell_type": "code",
   "execution_count": 4,
   "metadata": {},
   "outputs": [
    {
     "name": "stdout",
     "output_type": "stream",
     "text": [
      "xmean =  0.3493512337340174\n",
      "xmedian =  0.3784974142627954\n",
      "x_25 =  -34.28570360706031\n",
      "x_75 =  108.45990376814451\n",
      "xstd =  1.0781809145649481\n"
     ]
    }
   ],
   "source": [
    "xmean = np.mean(x)\n",
    "print('xmean = ' ,xmean)\n",
    "xmedian = np.median(x)\n",
    "print('xmedian = ' ,xmedian)\n",
    "x_25 = np.percentile(x,25)*100\n",
    "print('x_25 = ' ,x_25)\n",
    "x_75 = np.percentile(x,75)*100\n",
    "print('x_75 = ' ,x_75)\n",
    "xstd = np.std(x)\n",
    "print('xstd = ' ,xstd)\n"
   ]
  },
  {
   "cell_type": "markdown",
   "metadata": {},
   "source": [
    "### Problem #3 \n",
    "#### Compute the cumulative sum of the array x (there is a numpy function that does htis) and store it in a variable w.  Make a plot of the number of samples versus w. "
   ]
  },
  {
   "cell_type": "code",
   "execution_count": 13,
   "metadata": {},
   "outputs": [
    {
     "data": {
      "image/png": "[encoded data removed]",
      "text/plain": [
       "<Figure size 640x480 with 1 Axes>"
      ]
     },
     "metadata": {},
     "output_type": "display_data"
    }
   ],
   "source": [
    "w = np.cumsum(x)\n",
    "from matplotlib import pyplot as plt\n",
    "plt.plot(w, 'rd', ms=5);\n",
    "plt.xlabel('Sample #')\n",
    "plt.ylabel('Cumulative Sum')\n",
    "plt.show()"
   ]
  },
  {
   "cell_type": "markdown",
   "metadata": {},
   "source": [
    "### Problem #4 \n",
    "#### Find the sample number where w first exceeds 10. Save this to a variable called rt.  NOTE: There exceeds a remote possibility that you never cross 10 in 200 samples.  If this happens increase the number of samples from 200 to 300.  "
   ]
  },
  {
   "cell_type": "code",
   "execution_count": 48,
   "metadata": {},
   "outputs": [
    {
     "data": {
      "text/plain": [
       "array([-0.96949878,  2.95158409, -0.60939502, -0.04862044,  0.48259628,\n",
       "       -0.30896666,  0.57613641, -0.77997943,  1.20511728,  1.25469471,\n",
       "        0.45003028, -0.31649934,  0.65430777, -0.12976799,  0.33176739,\n",
       "       -1.44769036,  0.22582415, -0.95319568,  0.83279315,  1.07120402,\n",
       "        0.80127268,  1.63567595, -0.41637967,  2.63490566,  0.12018199,\n",
       "        3.12163077, -0.27501473, -1.20799878,  1.14766798,  0.38985472,\n",
       "       -0.30718799,  1.53939109,  1.11410841,  1.19546957, -0.51551448,\n",
       "        0.84612336,  0.78187603, -0.55975106,  0.90004257, -0.42245433,\n",
       "        1.13682143, -1.13519511,  1.17765158, -0.21035803, -0.6623814 ,\n",
       "        1.46938688,  1.66623867, -0.31234331, -0.64818458,  1.16023446,\n",
       "       -1.14002799, -0.09352634,  0.330849  , -1.51349162, -1.64061596,\n",
       "        0.48226486,  0.57867027,  1.45923561,  0.98474819,  1.52897862,\n",
       "        0.63071676, -1.61166331,  1.51322395, -0.49440805,  0.19963006,\n",
       "        1.08692926,  0.30427546,  1.65474037,  2.03502221,  0.37872656,\n",
       "       -1.3948926 ,  0.24602095,  0.78074275,  2.01359924,  0.08806535,\n",
       "        0.17733671,  0.67997909, -1.08381428,  1.72747601,  1.6498756 ,\n",
       "        2.37291982, -0.3986938 , -0.35391162,  0.43362272, -0.43683798,\n",
       "       -0.27626664, -0.33699911,  0.75183053, -0.41453911, -0.06252852,\n",
       "       -1.49224437,  0.06841708, -0.19316769,  0.8753569 , -0.91202252,\n",
       "        0.05185625,  0.20477975, -0.97592956,  0.8326543 , -1.70377335,\n",
       "        1.35407785, -1.06606492, -0.45533026,  0.65646077, -0.50723579,\n",
       "        1.60678797, -0.60775701, -0.52291631, -0.3236455 ,  0.17254728,\n",
       "        0.37836763, -1.07046251,  0.28543411,  1.32183927, -0.46136188,\n",
       "       -0.43974207, -0.26439439,  1.23032286,  0.43862533, -0.63827831,\n",
       "       -0.66736612, -0.62459768,  0.47928525,  1.21096696, -0.39933967,\n",
       "        0.49313049,  1.67340395,  0.36451346,  0.65090019, -0.31563586,\n",
       "       -0.10158301,  0.58515753,  0.31555028, -1.61328946,  1.11873943,\n",
       "        1.32670756,  0.17037775, -0.0151803 ,  0.62418412,  1.24137638,\n",
       "        2.33028496,  0.29032461,  0.46093912, -0.17717581,  0.40700958,\n",
       "       -1.05042815, -1.11925191,  0.16732067,  0.9816045 , -0.43838401,\n",
       "       -0.38755027, -1.06912686,  0.34200504,  0.43793023, -0.23915332,\n",
       "        0.36274957,  1.00456823,  0.37234436, -0.139257  , -0.45679399,\n",
       "       -1.05057759,  0.5166302 ,  0.11021449, -0.20655434,  0.67759471,\n",
       "       -1.03868543,  1.28279133,  0.49225787,  1.37647881, -0.44301476,\n",
       "       -0.46228126, -0.15804399, -0.78135209, -0.51616281,  1.39473015,\n",
       "        0.66281167, -0.41674762,  1.76640146,  2.6102236 , -0.45376495,\n",
       "        1.75335961, -0.4096483 , -1.4060861 ,  0.08423594, -0.19766548,\n",
       "       -1.73930255, -0.47060968,  0.92746188, -0.94821978, -0.89517507,\n",
       "        0.44980186, -0.19616601,  2.16016462, -1.60140465,  0.18992458,\n",
       "        0.21869758, -0.01122266, -0.39426321, -0.54667383, -1.1359801 ])"
      ]
     },
     "execution_count": 48,
     "metadata": {},
     "output_type": "execute_result"
    }
   ],
   "source": []
  },
  {
   "cell_type": "markdown",
   "metadata": {},
   "source": [
    "## The datafile ReactionTimeData.csv is for use in Problem 5 and 6.  You can load it into python using pandas. This is data from a perceptual discrimination Reaction Time + EEG experiment with 3 condition labeled 'Easy', 'Medium', 'Hard'.  The variable Correct indicates 1 if the subject got it right and 0 if the subject got it wrong.  Reaction Time is in units of milliseconds"
   ]
  },
  {
   "cell_type": "markdown",
   "metadata": {},
   "source": [
    "### Problem 5 \n",
    "#### Choose a subject (make a parameter which is the subject number than can be easily changed to run your code again on a different subject) Label the graphs with the subject number. \n",
    "#### a. make a histogram of the RT for an individual subject, showing all 3 difficulty conditions in a single graph.\n",
    "#### b. Make an bar plot with an error that shows the reaction time means for each condition  and for correct and incorrect trials. The errorbar should show the standard deviation.  "
   ]
  },
  {
   "cell_type": "code",
   "execution_count": 17,
   "metadata": {},
   "outputs": [
    {
     "data": {
      "text/plain": [
       "0       756\n",
       "1       756\n",
       "2       757\n",
       "3       758\n",
       "4       759\n",
       "       ... \n",
       "199    1708\n",
       "200    1788\n",
       "201    1800\n",
       "202    1997\n",
       "203    2018\n",
       "Name: ReactionTime, Length: 204, dtype: int64"
      ]
     },
     "execution_count": 17,
     "metadata": {},
     "output_type": "execute_result"
    }
   ],
   "source": [
    "import numpy as np\n",
    "from matplotlib import pyplot as plt\n",
    "import pandas as pd\n",
    "\n",
    "rtdata = pd.read_excel('rtdata.xlsx')\n",
    "### Before we get started, lets copy the values from the DataFrame to variables \n",
    "### I always go ahead and convert them into numpy arrays  \n",
    "trialnumber = np.array(rtdata['trialnumber']) # this tells you the order of trials.  i wont use it in this tutorial \n",
    "condition = np.array(rtdata['condition']) #this is the experimental condition (difficulty, coded as easy = 1, middle = 2, hard = 3) \n",
    "condition_labels = ['Easy','Middle','Hard']\n",
    "responsetime = np.array(rtdata['responsetime']) #this is the actual response time data in seconds. \n",
    "d = pd.read_csv('ReactionTimeData.csv')\n",
    "subject = d['Subject']\n",
    "rt = d['ReactionTime']\n",
    "S1 = (subject ==1)\n",
    "rt[subject ==1]\n",
    "np.mean(rt[subject ==1])\n",
    "\n",
    "Condition = np.array(d['Condition'])\n",
    "rt1 = np.mean(rt[Condition == 'Easy'])\n",
    "rt2 = np.mean(rt[Condition == 'Medium'])\n",
    "rt3 = np.mean(rt[Condition == 'Hard'])\n",
    "rt = [rt1,rt2,rt3]\n",
    "print(rt)"
   ]
  },
  {
   "cell_type": "code",
   "execution_count": null,
   "metadata": {},
   "outputs": [],
   "source": []
  },
  {
   "cell_type": "markdown",
   "metadata": {},
   "source": [
    "### Problem 6 \n",
    "#### a. Calculate the mean reaction time for each subject in each condition.  \n",
    "#### b. Make a histogram that shows the distribution of mean RT across subjects,showing all 3 conditions in a single graph.  \n",
    "#### c.  Repeat (b) for the 25%, 50%, and 75%. Do the graphs show the same differences between conditions? \n",
    "#### d. Calculate the accuracy for each subject in each condition (accuracy is the proportion they get correct).  Visualize the accuracy in each condition for all the subjects in 1 graph.  \n",
    "#### d.  What is your qualitiative opinion on the differences in reaction time and accuracy between conditions and subjects.   "
   ]
  },
  {
   "cell_type": "code",
   "execution_count": null,
   "metadata": {},
   "outputs": [],
   "source": []
  }
 ],
 "metadata": {
  "kernelspec": {
   "display_name": "base",
   "language": "python",
   "name": "python3"
  },
  "language_info": {
   "codemirror_mode": {
    "name": "ipython",
    "version": 3
   },
   "file_extension": ".py",
   "mimetype": "text/x-python",
   "name": "python",
   "nbconvert_exporter": "python",
   "pygments_lexer": "ipython3",
   "version": "3.11.4"
  },
  "orig_nbformat": 4
 },
 "nbformat": 4,
 "nbformat_minor": 2
}
